{
 "cells": [
  {
   "cell_type": "markdown",
   "metadata": {},
   "source": [
    "## Importer sql et la BDD"
   ]
  },
  {
   "cell_type": "code",
   "execution_count": 2,
   "metadata": {},
   "outputs": [
    {
     "data": {
      "text/plain": [
       "'/home/khaleb.dabakuyo@Digital-Grenoble.local/Documents/BDD'"
      ]
     },
     "execution_count": 2,
     "metadata": {},
     "output_type": "execute_result"
    }
   ],
   "source": [
    "import sqlite3\n",
    "%pwd"
   ]
  },
  {
   "cell_type": "code",
   "execution_count": 3,
   "metadata": {},
   "outputs": [],
   "source": [
    "import pandas as pd\n",
    "import matplotlib.pyplot as plt\n",
    "import numpy as np"
   ]
  },
  {
   "cell_type": "code",
   "execution_count": 4,
   "metadata": {},
   "outputs": [],
   "source": [
    "bbmd = sqlite3.connect('./billboard/billboard-200.db') #type sqlite3.Connection"
   ]
  },
  {
   "cell_type": "markdown",
   "metadata": {},
   "source": [
    "## Effectuer des requêtes SQL depuis Pytho pour répondre aux questions suivantes:\n",
    "* Effectuez la moyenne par année de la caractéristique \"acousticness\". Quelle est la tendance de cette caractéristique?\n",
    "* Quelle est l'année dont le niveau sonore \"loudness\" a été le plus haut?\n",
    "* Quelle est la clé musicale la plus utilisée - en prenant en compte le mode (e.g. majeur, mineur)?"
   ]
  },
  {
   "cell_type": "code",
   "execution_count": 5,
   "metadata": {},
   "outputs": [
    {
     "data": {
      "text/plain": [
       "<sqlite3.Cursor at 0x7f0efa0aac40>"
      ]
     },
     "execution_count": 5,
     "metadata": {},
     "output_type": "execute_result"
    }
   ],
   "source": [
    "#Create a cursor object to access the data\n",
    "cursor = bbmd.cursor()\n",
    "\n",
    "cursor.execute(\"SELECT * FROM acoustic_features\")"
   ]
  },
  {
   "cell_type": "markdown",
   "metadata": {},
   "source": [
    "### Effectuez la moyenne par année de la caractéristique \"acousticness\". Quelle est la tendance de cette caractéristique?"
   ]
  },
  {
   "cell_type": "code",
   "execution_count": 6,
   "metadata": {},
   "outputs": [
    {
     "name": "stdout",
     "output_type": "stream",
     "text": [
      "[(0.29880584830833323,)]\n"
     ]
    }
   ],
   "source": [
    "#Mean acousticness by nb lines\n",
    "query=\"\"\"\n",
    "SELECT SUM(acousticness)/count(acousticness) \n",
    "FROM acoustic_features\n",
    "\"\"\"\n",
    "cursor.execute(query)\n",
    "print(cursor.fetchall())"
   ]
  },
  {
   "cell_type": "code",
   "execution_count": 10,
   "metadata": {},
   "outputs": [
    {
     "data": {
      "text/plain": [
       "<sqlite3.Cursor at 0x7f0efa0aac40>"
      ]
     },
     "execution_count": 10,
     "metadata": {},
     "output_type": "execute_result"
    }
   ],
   "source": [
    "#Mean acousticness by year\n",
    "query=\"\"\"\n",
    "SELECT acousticness, substr(date,1,4)\n",
    "FROM acoustic_features\n",
    "GROUP BY substr(date,1,4)\n",
    "\"\"\"\n",
    "cursor.execute(query)\n",
    "#print(cursor.fetchall())"
   ]
  },
  {
   "cell_type": "code",
   "execution_count": null,
   "metadata": {},
   "outputs": [],
   "source": [
    "#Count nb of Distinct feature for date as control\n",
    "query=\"\"\"\n",
    "SELECT count(DISTINCT(substr(date,1,4))) \n",
    "FROM acoustic_features\n",
    "\"\"\"\n",
    "cursor.execute(query)\n",
    "print(cursor.fetchall())"
   ]
  },
  {
   "cell_type": "code",
   "execution_count": null,
   "metadata": {},
   "outputs": [],
   "source": [
    "#Tendance\n",
    "query = '''SELECT DISTINCT SUBSTR(date, 1, 4) as Annee, AVG(acousticness) as AVG_acousticness\n",
    "            FROM acoustic_features\n",
    "            GROUP BY SUBSTR(date, 1, 4)\n",
    "            ORDER BY SUBSTR(date, 1, 4)'''\n",
    "cursor.execute(query)\n",
    "test=cursor.fetchall()\n",
    "x = []\n",
    "y = []\n",
    "for row in test:\n",
    "    x.append(row[0])\n",
    "    y.append(row[1])\n",
    "plt.plot(x, y);"
   ]
  },
  {
   "cell_type": "code",
   "execution_count": null,
   "metadata": {
    "scrolled": true
   },
   "outputs": [],
   "source": [
    "moy_acous_an = pd.read_sql_query(query, bbmd)\n",
    "moy_acous_an.set_index('Annee').plot()"
   ]
  },
  {
   "cell_type": "markdown",
   "metadata": {},
   "source": [
    "### Quelle est l'année dont le niveau sonore \"loudness\" a été le plus haut?"
   ]
  },
  {
   "cell_type": "code",
   "execution_count": null,
   "metadata": {},
   "outputs": [],
   "source": [
    "#Année dont le niveau sonore \"loudness\" cumulé a été le plus haut\n",
    "query=\"\"\"\n",
    "SELECT loudness, substr(date,1,4)\n",
    "FROM acoustic_features\n",
    "GROUP BY substr(date,1,4)\n",
    "\"\"\"\n",
    "loudness_sumbyyear=list(cursor.execute(query))\n",
    "max(loudness_sumbyyear)"
   ]
  },
  {
   "cell_type": "code",
   "execution_count": 13,
   "metadata": {},
   "outputs": [
    {
     "data": {
      "text/plain": [
       "(3.744, '1973')"
      ]
     },
     "execution_count": 13,
     "metadata": {},
     "output_type": "execute_result"
    }
   ],
   "source": [
    "#Année dont le niveau sonore \"loudness\" a été le plus haut pour une donnée\n",
    "query=\"\"\"\n",
    "SELECT max(loudness), substr(date,1,4)\n",
    "FROM acoustic_features\n",
    "GROUP BY substr(date,1,4)\n",
    "\"\"\"\n",
    "loudness_suminyear=list(cursor.execute(query))\n",
    "max(loudness_suminyear)"
   ]
  },
  {
   "cell_type": "code",
   "execution_count": 11,
   "metadata": {},
   "outputs": [
    {
     "data": {
      "text/plain": [
       "(-116.75199999999998, '1900')"
      ]
     },
     "execution_count": 11,
     "metadata": {},
     "output_type": "execute_result"
    }
   ],
   "source": [
    "#Année dont le niveau sonore \"loudness\" cumulé a été le plus haut\n",
    "query=\"\"\"\n",
    "SELECT sum(loudness), substr(date,1,4)\n",
    "FROM acoustic_features\n",
    "GROUP BY substr(date,1,4)\n",
    "\"\"\"\n",
    "loudness_sumforyear=list(cursor.execute(query))\n",
    "max(loudness_sumforyear)"
   ]
  },
  {
   "cell_type": "code",
   "execution_count": null,
   "metadata": {},
   "outputs": [],
   "source": [
    "query=\"\"\"\n",
    "SELECT loudness\n",
    "FROM acoustic_features\n",
    "GROUP BY substr(date,1,4)\n",
    "\"\"\"\n",
    "loudness_year_gb=list(cursor.execute(query))\n",
    "max(loudness_year_gb)"
   ]
  },
  {
   "cell_type": "code",
   "execution_count": 12,
   "metadata": {},
   "outputs": [
    {
     "name": "stdout",
     "output_type": "stream",
     "text": [
      "[(-7.381286924393974, '2010')]\n"
     ]
    }
   ],
   "source": [
    "#Vrai résultat\n",
    "query= \"\"\"\n",
    "SELECT MAX(loudness_byyear), year FROM\n",
    "(SELECT AVG(loudness) as loudness_byyear, SUBSTR(date,1,4) as year\n",
    "FROM acoustic_features\n",
    "GROUP BY year\n",
    "ORDER BY year)\"\"\"\n",
    "cursor.execute(query)\n",
    "print(cursor.fetchall())"
   ]
  },
  {
   "cell_type": "code",
   "execution_count": null,
   "metadata": {},
   "outputs": [],
   "source": []
  },
  {
   "cell_type": "markdown",
   "metadata": {},
   "source": [
    "### Quelle est la clé musicale la plus utilisée - en prenant en compte le mode (e.g. majeur, mineur)?"
   ]
  },
  {
   "cell_type": "code",
   "execution_count": 14,
   "metadata": {},
   "outputs": [
    {
     "data": {
      "text/html": [
       "<div>\n",
       "<style scoped>\n",
       "    .dataframe tbody tr th:only-of-type {\n",
       "        vertical-align: middle;\n",
       "    }\n",
       "\n",
       "    .dataframe tbody tr th {\n",
       "        vertical-align: top;\n",
       "    }\n",
       "\n",
       "    .dataframe thead th {\n",
       "        text-align: right;\n",
       "    }\n",
       "</style>\n",
       "<table border=\"1\" class=\"dataframe\">\n",
       "  <thead>\n",
       "    <tr style=\"text-align: right;\">\n",
       "      <th></th>\n",
       "      <th>keys</th>\n",
       "      <th>pitches</th>\n",
       "    </tr>\n",
       "  </thead>\n",
       "  <tbody>\n",
       "    <tr>\n",
       "      <th>0</th>\n",
       "      <td>0</td>\n",
       "      <td>C, B♯</td>\n",
       "    </tr>\n",
       "    <tr>\n",
       "      <th>1</th>\n",
       "      <td>1</td>\n",
       "      <td>C♯, D♭</td>\n",
       "    </tr>\n",
       "    <tr>\n",
       "      <th>2</th>\n",
       "      <td>2</td>\n",
       "      <td>D</td>\n",
       "    </tr>\n",
       "    <tr>\n",
       "      <th>3</th>\n",
       "      <td>3</td>\n",
       "      <td>D♯, E♭</td>\n",
       "    </tr>\n",
       "    <tr>\n",
       "      <th>4</th>\n",
       "      <td>4</td>\n",
       "      <td>E</td>\n",
       "    </tr>\n",
       "    <tr>\n",
       "      <th>5</th>\n",
       "      <td>5</td>\n",
       "      <td>F</td>\n",
       "    </tr>\n",
       "    <tr>\n",
       "      <th>6</th>\n",
       "      <td>6</td>\n",
       "      <td>F♯, G♭</td>\n",
       "    </tr>\n",
       "    <tr>\n",
       "      <th>7</th>\n",
       "      <td>7</td>\n",
       "      <td>G</td>\n",
       "    </tr>\n",
       "    <tr>\n",
       "      <th>8</th>\n",
       "      <td>8</td>\n",
       "      <td>G♯, A♭</td>\n",
       "    </tr>\n",
       "    <tr>\n",
       "      <th>9</th>\n",
       "      <td>9</td>\n",
       "      <td>A</td>\n",
       "    </tr>\n",
       "    <tr>\n",
       "      <th>10</th>\n",
       "      <td>10</td>\n",
       "      <td>A♯, B♭</td>\n",
       "    </tr>\n",
       "    <tr>\n",
       "      <th>11</th>\n",
       "      <td>11</td>\n",
       "      <td>B</td>\n",
       "    </tr>\n",
       "  </tbody>\n",
       "</table>\n",
       "</div>"
      ],
      "text/plain": [
       "    keys pitches\n",
       "0      0   C, B♯\n",
       "1      1  C♯, D♭\n",
       "2      2       D\n",
       "3      3  D♯, E♭\n",
       "4      4       E\n",
       "5      5       F\n",
       "6      6  F♯, G♭\n",
       "7      7       G\n",
       "8      8  G♯, A♭\n",
       "9      9       A\n",
       "10    10  A♯, B♭\n",
       "11    11       B"
      ]
     },
     "execution_count": 14,
     "metadata": {},
     "output_type": "execute_result"
    }
   ],
   "source": [
    "#https://en.wikipedia.org/wiki/Pitch_class\n",
    "pitches = ['C, B♯', 'C♯, D♭', 'D', 'D♯, E♭', 'E', 'F', 'F♯, G♭', 'G', 'G♯, A♭', 'A', 'A♯, B♭', 'B' ]\n",
    "keys = [0,1,2,3,4,5,6,7,8,9,10,11]\n",
    "pk= {'keys':[0,1,2,3,4,5,6,7,8,9,10,11],'pitches':['C, B♯', 'C♯, D♭', 'D', 'D♯, E♭', 'E', 'F', 'F♯, G♭', 'G', 'G♯, A♭', 'A', 'A♯, B♭', 'B' ]}\n",
    "df_pk= pd.DataFrame(data=pk)\n",
    "df_pk"
   ]
  },
  {
   "cell_type": "code",
   "execution_count": 15,
   "metadata": {
    "scrolled": true
   },
   "outputs": [
    {
     "data": {
      "text/html": [
       "<div>\n",
       "<style scoped>\n",
       "    .dataframe tbody tr th:only-of-type {\n",
       "        vertical-align: middle;\n",
       "    }\n",
       "\n",
       "    .dataframe tbody tr th {\n",
       "        vertical-align: top;\n",
       "    }\n",
       "\n",
       "    .dataframe thead th {\n",
       "        text-align: right;\n",
       "    }\n",
       "</style>\n",
       "<table border=\"1\" class=\"dataframe\">\n",
       "  <thead>\n",
       "    <tr style=\"text-align: right;\">\n",
       "      <th></th>\n",
       "      <th>keys</th>\n",
       "      <th>count(key)</th>\n",
       "      <th>mode</th>\n",
       "    </tr>\n",
       "  </thead>\n",
       "  <tbody>\n",
       "    <tr>\n",
       "      <th>1</th>\n",
       "      <td>0.0</td>\n",
       "      <td>41103</td>\n",
       "      <td>1.0</td>\n",
       "    </tr>\n",
       "    <tr>\n",
       "      <th>2</th>\n",
       "      <td>1.0</td>\n",
       "      <td>29207</td>\n",
       "      <td>0.0</td>\n",
       "    </tr>\n",
       "    <tr>\n",
       "      <th>3</th>\n",
       "      <td>2.0</td>\n",
       "      <td>39098</td>\n",
       "      <td>0.0</td>\n",
       "    </tr>\n",
       "    <tr>\n",
       "      <th>4</th>\n",
       "      <td>3.0</td>\n",
       "      <td>10399</td>\n",
       "      <td>0.0</td>\n",
       "    </tr>\n",
       "    <tr>\n",
       "      <th>5</th>\n",
       "      <td>4.0</td>\n",
       "      <td>27185</td>\n",
       "      <td>0.0</td>\n",
       "    </tr>\n",
       "    <tr>\n",
       "      <th>6</th>\n",
       "      <td>5.0</td>\n",
       "      <td>27829</td>\n",
       "      <td>0.0</td>\n",
       "    </tr>\n",
       "    <tr>\n",
       "      <th>7</th>\n",
       "      <td>6.0</td>\n",
       "      <td>19532</td>\n",
       "      <td>0.0</td>\n",
       "    </tr>\n",
       "    <tr>\n",
       "      <th>8</th>\n",
       "      <td>7.0</td>\n",
       "      <td>42139</td>\n",
       "      <td>0.0</td>\n",
       "    </tr>\n",
       "    <tr>\n",
       "      <th>9</th>\n",
       "      <td>8.0</td>\n",
       "      <td>19144</td>\n",
       "      <td>1.0</td>\n",
       "    </tr>\n",
       "    <tr>\n",
       "      <th>10</th>\n",
       "      <td>9.0</td>\n",
       "      <td>37738</td>\n",
       "      <td>1.0</td>\n",
       "    </tr>\n",
       "    <tr>\n",
       "      <th>11</th>\n",
       "      <td>10.0</td>\n",
       "      <td>22027</td>\n",
       "      <td>0.0</td>\n",
       "    </tr>\n",
       "    <tr>\n",
       "      <th>12</th>\n",
       "      <td>11.0</td>\n",
       "      <td>24449</td>\n",
       "      <td>0.0</td>\n",
       "    </tr>\n",
       "  </tbody>\n",
       "</table>\n",
       "</div>"
      ],
      "text/plain": [
       "    keys  count(key)  mode\n",
       "1    0.0       41103   1.0\n",
       "2    1.0       29207   0.0\n",
       "3    2.0       39098   0.0\n",
       "4    3.0       10399   0.0\n",
       "5    4.0       27185   0.0\n",
       "6    5.0       27829   0.0\n",
       "7    6.0       19532   0.0\n",
       "8    7.0       42139   0.0\n",
       "9    8.0       19144   1.0\n",
       "10   9.0       37738   1.0\n",
       "11  10.0       22027   0.0\n",
       "12  11.0       24449   0.0"
      ]
     },
     "execution_count": 15,
     "metadata": {},
     "output_type": "execute_result"
    }
   ],
   "source": [
    "query=\"\"\"\n",
    "SELECT key, count(key), mode\n",
    "FROM acoustic_features\n",
    "GROUP BY key\n",
    "ORDER BY key asc\n",
    "\"\"\"\n",
    "key_list=pd.DataFrame(cursor.execute(query))\n",
    "key_list=key_list[1:]\n",
    "key_list.columns=['keys','count(key)','mode']\n",
    "key_list"
   ]
  },
  {
   "cell_type": "code",
   "execution_count": 16,
   "metadata": {},
   "outputs": [
    {
     "data": {
      "text/html": [
       "<div>\n",
       "<style scoped>\n",
       "    .dataframe tbody tr th:only-of-type {\n",
       "        vertical-align: middle;\n",
       "    }\n",
       "\n",
       "    .dataframe tbody tr th {\n",
       "        vertical-align: top;\n",
       "    }\n",
       "\n",
       "    .dataframe thead th {\n",
       "        text-align: right;\n",
       "    }\n",
       "</style>\n",
       "<table border=\"1\" class=\"dataframe\">\n",
       "  <thead>\n",
       "    <tr style=\"text-align: right;\">\n",
       "      <th></th>\n",
       "      <th>keys</th>\n",
       "      <th>pitches</th>\n",
       "      <th>count(key)</th>\n",
       "      <th>mode</th>\n",
       "    </tr>\n",
       "  </thead>\n",
       "  <tbody>\n",
       "    <tr>\n",
       "      <th>0</th>\n",
       "      <td>0</td>\n",
       "      <td>C, B♯</td>\n",
       "      <td>41103</td>\n",
       "      <td>1.0</td>\n",
       "    </tr>\n",
       "    <tr>\n",
       "      <th>1</th>\n",
       "      <td>1</td>\n",
       "      <td>C♯, D♭</td>\n",
       "      <td>29207</td>\n",
       "      <td>0.0</td>\n",
       "    </tr>\n",
       "    <tr>\n",
       "      <th>2</th>\n",
       "      <td>2</td>\n",
       "      <td>D</td>\n",
       "      <td>39098</td>\n",
       "      <td>0.0</td>\n",
       "    </tr>\n",
       "    <tr>\n",
       "      <th>3</th>\n",
       "      <td>3</td>\n",
       "      <td>D♯, E♭</td>\n",
       "      <td>10399</td>\n",
       "      <td>0.0</td>\n",
       "    </tr>\n",
       "    <tr>\n",
       "      <th>4</th>\n",
       "      <td>4</td>\n",
       "      <td>E</td>\n",
       "      <td>27185</td>\n",
       "      <td>0.0</td>\n",
       "    </tr>\n",
       "    <tr>\n",
       "      <th>5</th>\n",
       "      <td>5</td>\n",
       "      <td>F</td>\n",
       "      <td>27829</td>\n",
       "      <td>0.0</td>\n",
       "    </tr>\n",
       "    <tr>\n",
       "      <th>6</th>\n",
       "      <td>6</td>\n",
       "      <td>F♯, G♭</td>\n",
       "      <td>19532</td>\n",
       "      <td>0.0</td>\n",
       "    </tr>\n",
       "    <tr>\n",
       "      <th>7</th>\n",
       "      <td>7</td>\n",
       "      <td>G</td>\n",
       "      <td>42139</td>\n",
       "      <td>0.0</td>\n",
       "    </tr>\n",
       "    <tr>\n",
       "      <th>8</th>\n",
       "      <td>8</td>\n",
       "      <td>G♯, A♭</td>\n",
       "      <td>19144</td>\n",
       "      <td>1.0</td>\n",
       "    </tr>\n",
       "    <tr>\n",
       "      <th>9</th>\n",
       "      <td>9</td>\n",
       "      <td>A</td>\n",
       "      <td>37738</td>\n",
       "      <td>1.0</td>\n",
       "    </tr>\n",
       "    <tr>\n",
       "      <th>10</th>\n",
       "      <td>10</td>\n",
       "      <td>A♯, B♭</td>\n",
       "      <td>22027</td>\n",
       "      <td>0.0</td>\n",
       "    </tr>\n",
       "    <tr>\n",
       "      <th>11</th>\n",
       "      <td>11</td>\n",
       "      <td>B</td>\n",
       "      <td>24449</td>\n",
       "      <td>0.0</td>\n",
       "    </tr>\n",
       "  </tbody>\n",
       "</table>\n",
       "</div>"
      ],
      "text/plain": [
       "    keys pitches  count(key)  mode\n",
       "0      0   C, B♯       41103   1.0\n",
       "1      1  C♯, D♭       29207   0.0\n",
       "2      2       D       39098   0.0\n",
       "3      3  D♯, E♭       10399   0.0\n",
       "4      4       E       27185   0.0\n",
       "5      5       F       27829   0.0\n",
       "6      6  F♯, G♭       19532   0.0\n",
       "7      7       G       42139   0.0\n",
       "8      8  G♯, A♭       19144   1.0\n",
       "9      9       A       37738   1.0\n",
       "10    10  A♯, B♭       22027   0.0\n",
       "11    11       B       24449   0.0"
      ]
     },
     "execution_count": 16,
     "metadata": {},
     "output_type": "execute_result"
    }
   ],
   "source": [
    "#Merge dataframes des keys/notes et résultats des counts\n",
    "key_compare= pd.merge(df_pk,key_list)\n",
    "key_compare"
   ]
  },
  {
   "cell_type": "code",
   "execution_count": null,
   "metadata": {},
   "outputs": [],
   "source": [
    "#major=1 minor=0\n",
    "query=\"\"\"\n",
    "SELECT key, count(mode), mode\n",
    "FROM acoustic_features\n",
    "GROUP BY mode\n",
    "\"\"\"\n",
    "key_mode=list(cursor.execute(query))\n",
    "key_mode"
   ]
  },
  {
   "cell_type": "code",
   "execution_count": null,
   "metadata": {},
   "outputs": [],
   "source": [
    "#test major vs minor --> Key\n",
    "query=\"\"\"\n",
    "SELECT mode, key, count(key)\n",
    "FROM acoustic_features\n",
    "GROUP BY key\n",
    "\"\"\"\n",
    "key_mode=pd.DataFrame(cursor.execute(query))\n",
    "key_mode=key_mode[1:]\n",
    "key_mode.columns=['Mode','Key','count(key)']\n",
    "key_mode"
   ]
  },
  {
   "cell_type": "code",
   "execution_count": null,
   "metadata": {},
   "outputs": [],
   "source": [
    "#test major vs minor --> Key\n",
    "query=\"\"\"\n",
    "SELECT (CASE WHEN mode=1.0 then \"major\" ELSE \"minor\"END), key, count(key)\n",
    "FROM acoustic_features\n",
    "GROUP BY Mode\n",
    "\"\"\"\n",
    "key_mode=pd.DataFrame(cursor.execute(query))\n",
    "key_mode=key_mode[1:]\n",
    "key_mode.columns=['Mode','Key','count(key)']\n",
    "key_mode #df"
   ]
  },
  {
   "cell_type": "code",
   "execution_count": null,
   "metadata": {},
   "outputs": [],
   "source": [
    "pk= {'keys':[0,1,2,3,4,5,6,7,8,9,10,11],'pitches':['C, B♯', 'C♯, D♭', 'D', 'D♯, E♭', 'E', 'F', 'F♯, G♭', 'G', 'G♯, A♭', 'A', 'A♯, B♭', 'B' ]}\n",
    "df_pk= pd.DataFrame(data=pk)\n",
    "test=pd.concat([key_mode,df_pk],axis=1,join='inner')\n",
    "test"
   ]
  },
  {
   "cell_type": "code",
   "execution_count": null,
   "metadata": {},
   "outputs": [],
   "source": [
    "result = pd.concat([df1, df4], axis=1, join='inner')"
   ]
  }
 ],
 "metadata": {
  "kernelspec": {
   "display_name": "Python 3 (ipykernel)",
   "language": "python",
   "name": "python3"
  },
  "language_info": {
   "codemirror_mode": {
    "name": "ipython",
    "version": 3
   },
   "file_extension": ".py",
   "mimetype": "text/x-python",
   "name": "python",
   "nbconvert_exporter": "python",
   "pygments_lexer": "ipython3",
   "version": "3.10.9"
  },
  "toc": {
   "base_numbering": 1,
   "nav_menu": {},
   "number_sections": true,
   "sideBar": true,
   "skip_h1_title": false,
   "title_cell": "Table of Contents",
   "title_sidebar": "Contents",
   "toc_cell": false,
   "toc_position": {},
   "toc_section_display": true,
   "toc_window_display": false
  }
 },
 "nbformat": 4,
 "nbformat_minor": 4
}
